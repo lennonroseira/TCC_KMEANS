{
  "metadata": {
    "language_info": {
      "codemirror_mode": {
        "name": "python",
        "version": 3
      },
      "file_extension": ".py",
      "mimetype": "text/x-python",
      "name": "python",
      "nbconvert_exporter": "python",
      "pygments_lexer": "ipython3",
      "version": "3.8"
    },
    "kernelspec": {
      "name": "python",
      "display_name": "Python (Pyodide)",
      "language": "python"
    }
  },
  "nbformat_minor": 4,
  "nbformat": 4,
  "cells": [
    {
      "cell_type": "raw",
      "source": "import pandas as pd\nimport numpy as np\nimport matplotlib.pyplot as plt\nfrom sklearn.cluster import KMeans\nfrom math import sqrt",
      "metadata": {}
    },
    {
      "cell_type": "code",
      "source": "def calculate_wcss(data):\n    wcss = []\n    model_list = []\n    for n in range(2, 21):\n        kmeans = KMeans(n_clusters=n)\n        kmeans.fit(X=data)\n        wcss.append(kmeans.inertia_)\n        model_list.append(kmeans)\n\n    return wcss, model_list\n       \ndef get_best_number_clusters(wcss):\n    x1, y1 = 2, wcss[0]\n    x2, y2 = 20, wcss[len(wcss)-1]\n\n    distances = []\n    for i in range(len(wcss)):\n        x0 = i+2\n        y0 = wcss[i]\n        numerator = abs((y2-y1)*x0 - (x2-x1)*y0 + x2*y1 - y2*x1)\n        denominator = sqrt((y2 - y1)**2 + (x2 - x1)**2)\n        distances.append(numerator/denominator)\n    \n    return distances.index(max(distances)) + 2",
      "metadata": {
        "trusted": true
      },
      "execution_count": 3,
      "outputs": []
    },
    {
      "cell_type": "code",
      "source": "df = pd.read_excel('./fii.xls')\ndf",
      "metadata": {},
      "execution_count": null,
      "outputs": []
    },
    {
      "cell_type": "code",
      "source": "cols = ['CÓDIGO DO FUNDO', 'DIVIDEND YIELD', 'DY (3M) MÉDIA', 'P/VPA']\ndf = df[cols].set_index('CÓDIGO DO FUNDO')\n# Removendo papeis com nan do p/vpa\ndf = df[~df['P/VPA'].isnull()]\ndf = df[~df['DY (3M) MÉDIA'].isnull()]\ndf = df[~df['DIVIDEND YIELD'].isnull()]\ndf",
      "metadata": {},
      "execution_count": null,
      "outputs": []
    },
    {
      "cell_type": "code",
      "source": "df['DY (3M) MÉDIA'] = df['DY (3M) MÉDIA']*100\ndf['DIVIDEND YIELD'] = df['DIVIDEND YIELD']*100",
      "metadata": {},
      "execution_count": null,
      "outputs": []
    },
    {
      "cell_type": "code",
      "source": "wcss, model_list = calculate_wcss(df)\nplot = pd.DataFrame({'wcss':wcss,'groups':range(2,21)}).plot(x='groups', y='wcss', xticks=range(2,21), figsize=(10, 10),legend=False)\nplot.set_xlabel(\"Numero de grupos\")\nplot.set_ylabel(\"Inercia\")\nplot.set_title(\"Elbow Method utilizando Inercia\")",
      "metadata": {},
      "execution_count": null,
      "outputs": []
    },
    {
      "cell_type": "code",
      "source": "best_cluster_number = get_best_number_clusters(wcss)\nbest_cluster_number",
      "metadata": {},
      "execution_count": null,
      "outputs": []
    },
    {
      "cell_type": "code",
      "source": "model = model_list[best_cluster_number-2]\ndf['group'] = model.predict(df)\ndf",
      "metadata": {},
      "execution_count": null,
      "outputs": []
    },
    {
      "cell_type": "code",
      "source": "import matplotlib.pyplot as plt\n\n# Creating dataset\nz = df['P/VPA']\nx = df['DIVIDEND YIELD']\ny = df['DY (3M) MÉDIA']\n \n# Creating figure\nfig = plt.figure(figsize = (32*0.8, 18*0.8))\nax = plt.axes(projection =\"3d\")\n\n# Creating plot\nax.scatter3D(x[df['group']==0], y[df['group']==0], z[df['group']==0], marker ='^', s=70)\nax.scatter3D(x[df['group']==1], y[df['group']==1], z[df['group']==1], marker ='^', s=70)\nax.scatter3D(x[df['group']==2], y[df['group']==2], z[df['group']==2], marker ='^', s=70)\nax.scatter3D(x[df['group']==3], y[df['group']==3], z[df['group']==3], marker ='^', s=70)\nax.scatter3D(x[df['group']==4], y[df['group']==4], z[df['group']==4], marker ='^', s=70)\nax.scatter3D(x[df['group']==5], y[df['group']==5], z[df['group']==5], marker ='^', s=70)\n\n \nplt.title(\"Distribuição dos fundos imobiliários em relação a seus indicadores\")\nax.set_xlabel('DIVIDEND YIELD', fontweight ='bold')\nax.set_ylabel('DY (3M) MÉDIA', fontweight ='bold')\nax.set_zlabel('P/VPA', fontweight ='bold')\nax.legend(['Grupo 0', 'Grupo 1', 'Grupo 2', 'Grupo 3', 'Grupo 4', 'Grupo 5'])\n \n# show plot\nplt.show()",
      "metadata": {},
      "execution_count": null,
      "outputs": []
    },
    {
      "cell_type": "code",
      "source": "df.to_excel('./result.xls')\ndf",
      "metadata": {},
      "execution_count": null,
      "outputs": []
    }
  ]
}